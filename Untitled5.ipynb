{
  "nbformat": 4,
  "nbformat_minor": 0,
  "metadata": {
    "colab": {
      "provenance": [],
      "authorship_tag": "ABX9TyM3L+5NUI3McA3inDun4Hxf",
      "include_colab_link": true
    },
    "kernelspec": {
      "name": "python3",
      "display_name": "Python 3"
    },
    "language_info": {
      "name": "python"
    }
  },
  "cells": [
    {
      "cell_type": "markdown",
      "metadata": {
        "id": "view-in-github",
        "colab_type": "text"
      },
      "source": [
        "<a href=\"https://colab.research.google.com/github/Akshita0508/mini-project-2/blob/main/Untitled5.ipynb\" target=\"_parent\"><img src=\"https://colab.research.google.com/assets/colab-badge.svg\" alt=\"Open In Colab\"/></a>"
      ]
    },
    {
      "cell_type": "code",
      "execution_count": 1,
      "metadata": {
        "colab": {
          "base_uri": "https://localhost:8080/"
        },
        "id": "khf5RYTAXOsi",
        "outputId": "d3898255-6915-47dc-e177-32ddff024342"
      },
      "outputs": [
        {
          "output_type": "execute_result",
          "data": {
            "text/plain": [
              "{'nbformat': 4,\n",
              " 'nbformat_minor': 0,\n",
              " 'metadata': {'colab': {'provenance': [],\n",
              "   'authorship_tag': 'ABX9TyMn4s2AHMWFGV8T01zz4Dh6'},\n",
              "  'kernelspec': {'name': 'python3', 'display_name': 'Python 3'},\n",
              "  'language_info': {'name': 'python'}},\n",
              " 'cells': [{'cell_type': 'markdown',\n",
              "   'metadata': {'id': 'view-in-github', 'colab_type': 'text'},\n",
              "   'source': ['<a href=\"https://colab.research.google.com/github/Naman-Coder-950/Mini-Project-02/blob/main/Challenge_Question.ipynb\" target=\"_parent\"><img src=\"https://colab.research.google.com/assets/colab-badge.svg\" alt=\"Open In Colab\"/></a>']},\n",
              "  {'cell_type': 'code',\n",
              "   'execution_count': 1,\n",
              "   'metadata': {'colab': {'base_uri': 'https://localhost:8080/'},\n",
              "    'id': 'hAGavf26foLy',\n",
              "    'outputId': 'a7acb3ec-4154-484c-abe2-5e5bd8f9a32f'},\n",
              "   'outputs': [{'output_type': 'stream',\n",
              "     'name': 'stdout',\n",
              "     'text': [\"Original List: ['Ram', 1, 'Shyam', 2, 'Aman', 3]\\n\",\n",
              "      \"Sorted List (Strings first, then Integers): ['Aman', 'Ram', 'Shyam', 1, 2, 3]\\n\"]}],\n",
              "   'source': ['L = [\"Ram\", 1, \"Shyam\", 2, \"Aman\", 3]\\n',\n",
              "    'print(\"Original List:\", L)\\n',\n",
              "    '\\n',\n",
              "    '# Separate into strings and integers\\n',\n",
              "    'str_items = [x for x in L if isinstance(x, str)]\\n',\n",
              "    'int_items = [x for x in L if isinstance(x, int)]\\n',\n",
              "    '\\n',\n",
              "    '# Sort each list\\n',\n",
              "    'str_items.sort()\\n',\n",
              "    'int_items.sort()\\n',\n",
              "    '\\n',\n",
              "    '# Combine them (you can change the order as needed)\\n',\n",
              "    'sorted_L = str_items + int_items\\n',\n",
              "    'print(\"Sorted List (Strings first, then Integers):\", sorted_L)\\n']}]}"
            ]
          },
          "metadata": {},
          "execution_count": 1
        }
      ],
      "source": [
        "{\n",
        "  \"nbformat\": 4,\n",
        "  \"nbformat_minor\": 0,\n",
        "  \"metadata\": {\n",
        "    \"colab\": {\n",
        "      \"provenance\": [],\n",
        "      \"authorship_tag\": \"ABX9TyMn4s2AHMWFGV8T01zz4Dh6\",\n",
        "       #\"include_colab_link\":true\n",
        "    },\n",
        "    \"kernelspec\": {\n",
        "      \"name\": \"python3\",\n",
        "      \"display_name\": \"Python 3\"\n",
        "    },\n",
        "    \"language_info\": {\n",
        "      \"name\": \"python\"\n",
        "    }\n",
        "  },\n",
        "  \"cells\": [\n",
        "    {\n",
        "      \"cell_type\": \"markdown\",\n",
        "      \"metadata\": {\n",
        "        \"id\": \"view-in-github\",\n",
        "        \"colab_type\": \"text\"\n",
        "      },\n",
        "      \"source\": [\n",
        "        \"<a href=\\\"https://colab.research.google.com/github/Naman-Coder-950/Mini-Project-02/blob/main/Challenge_Question.ipynb\\\" target=\\\"_parent\\\"><img src=\\\"https://colab.research.google.com/assets/colab-badge.svg\\\" alt=\\\"Open In Colab\\\"/></a>\"\n",
        "      ]\n",
        "    },\n",
        "    {\n",
        "      \"cell_type\": \"code\",\n",
        "      \"execution_count\": 1,\n",
        "      \"metadata\": {\n",
        "        \"colab\": {\n",
        "          \"base_uri\": \"https://localhost:8080/\"\n",
        "        },\n",
        "        \"id\": \"hAGavf26foLy\",\n",
        "        \"outputId\": \"a7acb3ec-4154-484c-abe2-5e5bd8f9a32f\"\n",
        "      },\n",
        "      \"outputs\": [\n",
        "        {\n",
        "          \"output_type\": \"stream\",\n",
        "          \"name\": \"stdout\",\n",
        "          \"text\": [\n",
        "            \"Original List: ['Ram', 1, 'Shyam', 2, 'Aman', 3]\\n\",\n",
        "            \"Sorted List (Strings first, then Integers): ['Aman', 'Ram', 'Shyam', 1, 2, 3]\\n\"\n",
        "          ]\n",
        "        }\n",
        "      ],\n",
        "      \"source\": [\n",
        "        \"L = [\\\"Ram\\\", 1, \\\"Shyam\\\", 2, \\\"Aman\\\", 3]\\n\",\n",
        "        \"print(\\\"Original List:\\\", L)\\n\",\n",
        "        \"\\n\",\n",
        "        \"# Separate into strings and integers\\n\",\n",
        "        \"str_items = [x for x in L if isinstance(x, str)]\\n\",\n",
        "        \"int_items = [x for x in L if isinstance(x, int)]\\n\",\n",
        "        \"\\n\",\n",
        "        \"# Sort each list\\n\",\n",
        "        \"str_items.sort()\\n\",\n",
        "        \"int_items.sort()\\n\",\n",
        "        \"\\n\",\n",
        "        \"# Combine them (you can change the order as needed)\\n\",\n",
        "        \"sorted_L = str_items + int_items\\n\",\n",
        "        \"print(\\\"Sorted List (Strings first, then Integers):\\\", sorted_L)\\n\"\n",
        "      ]\n",
        "    }\n",
        "  ]\n",
        "}"
      ]
    }
  ]
}